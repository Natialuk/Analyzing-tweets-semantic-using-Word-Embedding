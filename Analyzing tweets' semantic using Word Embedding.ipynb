{
 "cells": [
  {
   "cell_type": "markdown",
   "metadata": {},
   "source": [
    "Social media has changed the world and gave individuals the opportunity to be heard and have an impact on society. In the past few years we have been witnessing a growing number of movements, protests and phenomena that started in social media.\n",
    "\n",
    "This opportunity has its downsides too. The social media can provide a platform for spreading hate, racism, sexism and has a real potential of hurting people. Freedom of speech is important, but sometimes, detecting and preventing this type of content from being published is a must.\n",
    "\n",
    "Using Kaggle, I extracted Tweets that are classified as hate tweets and regular tweets. In this case, hate tweets are considered as tweets with racist and sexist context. My intent is to train a model that will have the ability to analyze the tweet and label it efficiently."
   ]
  },
  {
   "cell_type": "code",
   "execution_count": 1,
   "metadata": {},
   "outputs": [
    {
     "name": "stderr",
     "output_type": "stream",
     "text": [
      "Using TensorFlow backend.\n"
     ]
    }
   ],
   "source": [
    "#Let's start with importing all the necessary libraries\n",
    "import pandas as pd\n",
    "import numpy as np\n",
    "import matplotlib.pyplot as plt\n",
    "import nltk\n",
    "import warnings \n",
    "warnings.filterwarnings(action = 'ignore') \n",
    "import re\n",
    "from keras.models import Model, Sequential\n",
    "from keras.preprocessing.text import Tokenizer, text_to_word_sequence\n",
    "from keras.preprocessing.sequence import pad_sequences\n",
    "from keras.layers import Dense, Flatten, Embedding\n",
    "from keras.optimizers import Adam\n",
    "import multiprocessing\n",
    "from matplotlib import pyplot\n",
    "from sklearn.decomposition import PCA\n",
    "from keras.utils import plot_model\n",
    "from gensim.models import Word2Vec\n",
    "%matplotlib inline"
   ]
  },
  {
   "cell_type": "code",
   "execution_count": 2,
   "metadata": {},
   "outputs": [],
   "source": [
    "#loading the csv file we extracted for kaggle\n",
    "df = pd.read_csv('twitter_sentiment_analysis_train.csv')"
   ]
  },
  {
   "cell_type": "code",
   "execution_count": 3,
   "metadata": {},
   "outputs": [
    {
     "data": {
      "text/plain": [
       "(31962, 3)"
      ]
     },
     "execution_count": 3,
     "metadata": {},
     "output_type": "execute_result"
    }
   ],
   "source": [
    "df.shape"
   ]
  },
  {
   "cell_type": "code",
   "execution_count": 4,
   "metadata": {},
   "outputs": [
    {
     "data": {
      "text/html": [
       "<div>\n",
       "<style scoped>\n",
       "    .dataframe tbody tr th:only-of-type {\n",
       "        vertical-align: middle;\n",
       "    }\n",
       "\n",
       "    .dataframe tbody tr th {\n",
       "        vertical-align: top;\n",
       "    }\n",
       "\n",
       "    .dataframe thead th {\n",
       "        text-align: right;\n",
       "    }\n",
       "</style>\n",
       "<table border=\"1\" class=\"dataframe\">\n",
       "  <thead>\n",
       "    <tr style=\"text-align: right;\">\n",
       "      <th></th>\n",
       "      <th>id</th>\n",
       "      <th>label</th>\n",
       "      <th>tweet</th>\n",
       "    </tr>\n",
       "  </thead>\n",
       "  <tbody>\n",
       "    <tr>\n",
       "      <th>0</th>\n",
       "      <td>1</td>\n",
       "      <td>0</td>\n",
       "      <td>@user when a father is dysfunctional and is s...</td>\n",
       "    </tr>\n",
       "    <tr>\n",
       "      <th>1</th>\n",
       "      <td>2</td>\n",
       "      <td>0</td>\n",
       "      <td>@user @user thanks for #lyft credit i can't us...</td>\n",
       "    </tr>\n",
       "    <tr>\n",
       "      <th>2</th>\n",
       "      <td>3</td>\n",
       "      <td>0</td>\n",
       "      <td>bihday your majesty</td>\n",
       "    </tr>\n",
       "    <tr>\n",
       "      <th>3</th>\n",
       "      <td>4</td>\n",
       "      <td>0</td>\n",
       "      <td>#model   i love u take with u all the time in ...</td>\n",
       "    </tr>\n",
       "    <tr>\n",
       "      <th>4</th>\n",
       "      <td>5</td>\n",
       "      <td>0</td>\n",
       "      <td>factsguide: society now    #motivation</td>\n",
       "    </tr>\n",
       "  </tbody>\n",
       "</table>\n",
       "</div>"
      ],
      "text/plain": [
       "   id  label                                              tweet\n",
       "0   1      0   @user when a father is dysfunctional and is s...\n",
       "1   2      0  @user @user thanks for #lyft credit i can't us...\n",
       "2   3      0                                bihday your majesty\n",
       "3   4      0  #model   i love u take with u all the time in ...\n",
       "4   5      0             factsguide: society now    #motivation"
      ]
     },
     "execution_count": 4,
     "metadata": {},
     "output_type": "execute_result"
    }
   ],
   "source": [
    "df.head()"
   ]
  },
  {
   "cell_type": "code",
   "execution_count": 5,
   "metadata": {},
   "outputs": [
    {
     "data": {
      "text/plain": [
       "label\n",
       "0    29720\n",
       "1     2242\n",
       "Name: tweet, dtype: int64"
      ]
     },
     "execution_count": 5,
     "metadata": {},
     "output_type": "execute_result"
    }
   ],
   "source": [
    "df.groupby('label')['tweet'].count()"
   ]
  },
  {
   "cell_type": "code",
   "execution_count": 6,
   "metadata": {},
   "outputs": [
    {
     "data": {
      "image/png": "[encoded data removed]",
      "text/plain": [
       "<Figure size 432x288 with 1 Axes>"
      ]
     },
     "metadata": {
      "needs_background": "light"
     },
     "output_type": "display_data"
    }
   ],
   "source": [
    "#Creating a plot of the tweets distribution\n",
    "plt.bar(['non-hate tweets','hate tweets'], df.groupby('label')['tweet'].count(), color=['b', 'r']);\n",
    "plt.title('Training Data Distribution');"
   ]
  },
  {
   "cell_type": "code",
   "execution_count": 7,
   "metadata": {},
   "outputs": [],
   "source": [
    "def text_clean_and_tokenize(text):\n",
    "    '''\n",
    "    removes redundant spaces, removes non english characters, and creates space after every uppercase letter,\n",
    "    performing text lemmatization and tokenization \n",
    "    \n",
    "    Input: text (only type str)\n",
    "    Output: clean and tokenized text\n",
    "    \n",
    "    '''\n",
    "    #Creting space between punctuations and removing the punctuations \n",
    "    text  = \"\".join((char if char.isalpha() else \" \") for char in text)\n",
    "    text = re.sub('[\\W_]+', ' ', text)\n",
    "    #Removing extra spaces\n",
    "    text = re.sub(' +', ' ',text)\n",
    "    text = text.strip()\n",
    "    #Converting uppercase letters to lowercase\n",
    "    text = text.lower()\n",
    "    #tokenization of words (creating a list of words)\n",
    "    text = re.split('\\W+', text)\n",
    "    \n",
    "    #Lemmatization on words\n",
    "    ps = nltk.WordNetLemmatizer()\n",
    "    text = [ps.lemmatize(w) for w in text]\n",
    "  \n",
    "    return text"
   ]
  },
  {
   "cell_type": "code",
   "execution_count": 8,
   "metadata": {},
   "outputs": [],
   "source": [
    "#performing text cleaning and tokenizing all the tweets in the dataset\n",
    "df['tokenized_tweets'] = df['tweet'].apply(lambda x: text_clean_and_tokenize(x))"
   ]
  },
  {
   "cell_type": "code",
   "execution_count": 9,
   "metadata": {},
   "outputs": [
    {
     "data": {
      "text/html": [
       "<div>\n",
       "<style scoped>\n",
       "    .dataframe tbody tr th:only-of-type {\n",
       "        vertical-align: middle;\n",
       "    }\n",
       "\n",
       "    .dataframe tbody tr th {\n",
       "        vertical-align: top;\n",
       "    }\n",
       "\n",
       "    .dataframe thead th {\n",
       "        text-align: right;\n",
       "    }\n",
       "</style>\n",
       "<table border=\"1\" class=\"dataframe\">\n",
       "  <thead>\n",
       "    <tr style=\"text-align: right;\">\n",
       "      <th></th>\n",
       "      <th>id</th>\n",
       "      <th>label</th>\n",
       "      <th>tweet</th>\n",
       "      <th>tokenized_tweets</th>\n",
       "    </tr>\n",
       "  </thead>\n",
       "  <tbody>\n",
       "    <tr>\n",
       "      <th>0</th>\n",
       "      <td>1</td>\n",
       "      <td>0</td>\n",
       "      <td>@user when a father is dysfunctional and is s...</td>\n",
       "      <td>[user, when, a, father, is, dysfunctional, and...</td>\n",
       "    </tr>\n",
       "    <tr>\n",
       "      <th>1</th>\n",
       "      <td>2</td>\n",
       "      <td>0</td>\n",
       "      <td>@user @user thanks for #lyft credit i can't us...</td>\n",
       "      <td>[user, user, thanks, for, lyft, credit, i, can...</td>\n",
       "    </tr>\n",
       "    <tr>\n",
       "      <th>2</th>\n",
       "      <td>3</td>\n",
       "      <td>0</td>\n",
       "      <td>bihday your majesty</td>\n",
       "      <td>[bihday, your, majesty]</td>\n",
       "    </tr>\n",
       "    <tr>\n",
       "      <th>3</th>\n",
       "      <td>4</td>\n",
       "      <td>0</td>\n",
       "      <td>#model   i love u take with u all the time in ...</td>\n",
       "      <td>[model, i, love, u, take, with, u, all, the, t...</td>\n",
       "    </tr>\n",
       "    <tr>\n",
       "      <th>4</th>\n",
       "      <td>5</td>\n",
       "      <td>0</td>\n",
       "      <td>factsguide: society now    #motivation</td>\n",
       "      <td>[factsguide, society, now, motivation]</td>\n",
       "    </tr>\n",
       "  </tbody>\n",
       "</table>\n",
       "</div>"
      ],
      "text/plain": [
       "   id  label                                              tweet  \\\n",
       "0   1      0   @user when a father is dysfunctional and is s...   \n",
       "1   2      0  @user @user thanks for #lyft credit i can't us...   \n",
       "2   3      0                                bihday your majesty   \n",
       "3   4      0  #model   i love u take with u all the time in ...   \n",
       "4   5      0             factsguide: society now    #motivation   \n",
       "\n",
       "                                    tokenized_tweets  \n",
       "0  [user, when, a, father, is, dysfunctional, and...  \n",
       "1  [user, user, thanks, for, lyft, credit, i, can...  \n",
       "2                            [bihday, your, majesty]  \n",
       "3  [model, i, love, u, take, with, u, all, the, t...  \n",
       "4             [factsguide, society, now, motivation]  "
      ]
     },
     "execution_count": 9,
     "metadata": {},
     "output_type": "execute_result"
    }
   ],
   "source": [
    "df.head()"
   ]
  },
  {
   "cell_type": "code",
   "execution_count": 10,
   "metadata": {},
   "outputs": [],
   "source": [
    "#Creating a Word2Vec model out of all our tokenized text columns\n",
    "model = Word2Vec(df['tokenized_tweets'], size = 100, window = 20, min_count = 2, negative = 20, iter=25, workers=multiprocessing.cpu_count())"
   ]
  },
  {
   "cell_type": "code",
   "execution_count": 11,
   "metadata": {},
   "outputs": [],
   "source": [
    "#Intisiating the words vocabulary\n",
    "word_vectors = model.wv"
   ]
  },
  {
   "cell_type": "code",
   "execution_count": 12,
   "metadata": {},
   "outputs": [],
   "source": [
    "#Saving the model we created\n",
    "model.wv.save_word2vec_format('Word_2_Vec_sentiment_analysis.txt', binary=False)"
   ]
  },
  {
   "cell_type": "code",
   "execution_count": 13,
   "metadata": {},
   "outputs": [
    {
     "data": {
      "text/plain": [
       "[('stupid', 0.5845484733581543),\n",
       " ('blame', 0.550693690776825),\n",
       " ('lgbt', 0.541233241558075),\n",
       " ('hateful', 0.5392723679542542),\n",
       " ('violence', 0.5130387544631958),\n",
       " ('agenda', 0.5096701979637146),\n",
       " ('maga', 0.5058462023735046),\n",
       " ('equality', 0.5037320256233215),\n",
       " ('kill', 0.5032801032066345),\n",
       " ('pathetic', 0.49251115322113037)]"
      ]
     },
     "execution_count": 13,
     "metadata": {},
     "output_type": "execute_result"
    }
   ],
   "source": [
    "#Exploring similarity between words to test our model\n",
    "word_vectors.similar_by_word(\"hate\")"
   ]
  },
  {
   "cell_type": "code",
   "execution_count": 14,
   "metadata": {},
   "outputs": [
    {
     "name": "stdout",
     "output_type": "stream",
     "text": [
      "0.44370776\n"
     ]
    }
   ],
   "source": [
    "print(model.wv.similarity('sexist', 'woman'))"
   ]
  },
  {
   "cell_type": "code",
   "execution_count": 15,
   "metadata": {},
   "outputs": [
    {
     "name": "stdout",
     "output_type": "stream",
     "text": [
      "[('trust', 0.5451172590255737), ('kindness', 0.5281391739845276), ('amen', 0.5040910243988037), ('spirituality', 0.497775673866272), ('vlicobs', 0.49765175580978394), ('positivity', 0.49580153822898865), ('mâ', 0.473218709230423), ('passion', 0.471571683883667), ('xoxo', 0.47136247158050537), ('future', 0.47030675411224365)]\n"
     ]
    }
   ],
   "source": [
    "#performing semantic differences\n",
    "print(model.wv.most_similar(positive=['peace', 'freedom'], negative=['war']))"
   ]
  },
  {
   "cell_type": "code",
   "execution_count": 16,
   "metadata": {},
   "outputs": [
    {
     "data": {
      "image/png": "[encoded data removed]",
      "text/plain": [
       "<Figure size 1800x1080 with 1 Axes>"
      ]
     },
     "metadata": {
      "needs_background": "light"
     },
     "output_type": "display_data"
    }
   ],
   "source": [
    "#create a plot for the 150 most frequent words\n",
    "X = model[model.wv.index2entity[:150]]\n",
    "pca = PCA(n_components=2)\n",
    "result = pca.fit_transform(X)[:150]\n",
    "# create a scatter plot of the projection\n",
    "pyplot.figure(figsize=(25,15))\n",
    "pyplot.rcParams.update({'font.size': 15});\n",
    "pyplot.scatter(result[:, 0], result[:, 1]);\n",
    "words = list(model.wv.vocab)[:150]\n",
    "for i, word in enumerate(words):\n",
    "\tpyplot.annotate(word, xy=(result[i, 0], result[i, 1]))\n",
    "    \n",
    "pyplot.show()"
   ]
  },
  {
   "cell_type": "code",
   "execution_count": 17,
   "metadata": {},
   "outputs": [],
   "source": [
    "def text_cleaning(text):\n",
    "    '''\n",
    "    removes redundant spaces, removes non english characters, and creates space after every uppercase letter,\n",
    "    performing text lemmatization and tokenization \n",
    "    \n",
    "    Input: text (only type str)\n",
    "    Output: clean text\n",
    "    \n",
    "    '''\n",
    "    #Creting space between punctuations and removing the punctuations \n",
    "    text  = \"\".join((char if char.isalpha() else \" \") for char in text)\n",
    "    text = re.sub('[\\W_]+', ' ', text)\n",
    "    #Removing extra spaces\n",
    "    text = re.sub(' +', ' ',text)\n",
    "    text = text.strip()\n",
    "    #Converting uppercase letters to lowercase\n",
    "    text = text.lower()\n",
    "    #tokenization of words (creating a list of words)\n",
    "    text = re.split('\\W+', text)\n",
    "    \n",
    "    #Lemmatization on words\n",
    "    ps = nltk.WordNetLemmatizer()\n",
    "\n",
    "    text = ' '.join([ps.lemmatize(w) for w in text])\n",
    "  \n",
    "    return text"
   ]
  },
  {
   "cell_type": "code",
   "execution_count": 18,
   "metadata": {},
   "outputs": [],
   "source": [
    "df['clean_tweets'] = df['tweet'].apply(lambda x: text_cleaning(x))"
   ]
  },
  {
   "cell_type": "code",
   "execution_count": 19,
   "metadata": {},
   "outputs": [
    {
     "data": {
      "text/html": [
       "<div>\n",
       "<style scoped>\n",
       "    .dataframe tbody tr th:only-of-type {\n",
       "        vertical-align: middle;\n",
       "    }\n",
       "\n",
       "    .dataframe tbody tr th {\n",
       "        vertical-align: top;\n",
       "    }\n",
       "\n",
       "    .dataframe thead th {\n",
       "        text-align: right;\n",
       "    }\n",
       "</style>\n",
       "<table border=\"1\" class=\"dataframe\">\n",
       "  <thead>\n",
       "    <tr style=\"text-align: right;\">\n",
       "      <th></th>\n",
       "      <th>id</th>\n",
       "      <th>label</th>\n",
       "      <th>tweet</th>\n",
       "      <th>tokenized_tweets</th>\n",
       "      <th>clean_tweets</th>\n",
       "    </tr>\n",
       "  </thead>\n",
       "  <tbody>\n",
       "    <tr>\n",
       "      <th>0</th>\n",
       "      <td>1</td>\n",
       "      <td>0</td>\n",
       "      <td>@user when a father is dysfunctional and is s...</td>\n",
       "      <td>[user, when, a, father, is, dysfunctional, and...</td>\n",
       "      <td>user when a father is dysfunctional and is so ...</td>\n",
       "    </tr>\n",
       "    <tr>\n",
       "      <th>1</th>\n",
       "      <td>2</td>\n",
       "      <td>0</td>\n",
       "      <td>@user @user thanks for #lyft credit i can't us...</td>\n",
       "      <td>[user, user, thanks, for, lyft, credit, i, can...</td>\n",
       "      <td>user user thanks for lyft credit i can t use c...</td>\n",
       "    </tr>\n",
       "    <tr>\n",
       "      <th>2</th>\n",
       "      <td>3</td>\n",
       "      <td>0</td>\n",
       "      <td>bihday your majesty</td>\n",
       "      <td>[bihday, your, majesty]</td>\n",
       "      <td>bihday your majesty</td>\n",
       "    </tr>\n",
       "    <tr>\n",
       "      <th>3</th>\n",
       "      <td>4</td>\n",
       "      <td>0</td>\n",
       "      <td>#model   i love u take with u all the time in ...</td>\n",
       "      <td>[model, i, love, u, take, with, u, all, the, t...</td>\n",
       "      <td>model i love u take with u all the time in urð...</td>\n",
       "    </tr>\n",
       "    <tr>\n",
       "      <th>4</th>\n",
       "      <td>5</td>\n",
       "      <td>0</td>\n",
       "      <td>factsguide: society now    #motivation</td>\n",
       "      <td>[factsguide, society, now, motivation]</td>\n",
       "      <td>factsguide society now motivation</td>\n",
       "    </tr>\n",
       "  </tbody>\n",
       "</table>\n",
       "</div>"
      ],
      "text/plain": [
       "   id  label                                              tweet  \\\n",
       "0   1      0   @user when a father is dysfunctional and is s...   \n",
       "1   2      0  @user @user thanks for #lyft credit i can't us...   \n",
       "2   3      0                                bihday your majesty   \n",
       "3   4      0  #model   i love u take with u all the time in ...   \n",
       "4   5      0             factsguide: society now    #motivation   \n",
       "\n",
       "                                    tokenized_tweets  \\\n",
       "0  [user, when, a, father, is, dysfunctional, and...   \n",
       "1  [user, user, thanks, for, lyft, credit, i, can...   \n",
       "2                            [bihday, your, majesty]   \n",
       "3  [model, i, love, u, take, with, u, all, the, t...   \n",
       "4             [factsguide, society, now, motivation]   \n",
       "\n",
       "                                        clean_tweets  \n",
       "0  user when a father is dysfunctional and is so ...  \n",
       "1  user user thanks for lyft credit i can t use c...  \n",
       "2                                bihday your majesty  \n",
       "3  model i love u take with u all the time in urð...  \n",
       "4                  factsguide society now motivation  "
      ]
     },
     "execution_count": 19,
     "metadata": {},
     "output_type": "execute_result"
    }
   ],
   "source": [
    "df.head()"
   ]
  },
  {
   "cell_type": "code",
   "execution_count": 20,
   "metadata": {},
   "outputs": [],
   "source": [
    "#Converting all tokenized words into constant numbers\n",
    "texts = df['clean_tweets']\n",
    "tokenizer = Tokenizer(nb_words=14225)\n",
    "tokenizer.fit_on_texts(texts)\n",
    "sequences = tokenizer.texts_to_sequences(texts)"
   ]
  },
  {
   "cell_type": "code",
   "execution_count": 21,
   "metadata": {},
   "outputs": [
    {
     "name": "stdout",
     "output_type": "stream",
     "text": [
      "Found 37391 unique tokens.\n"
     ]
    }
   ],
   "source": [
    "word_index = tokenizer.word_index\n",
    "print('Found %s unique tokens.' % len(word_index))"
   ]
  },
  {
   "cell_type": "code",
   "execution_count": 22,
   "metadata": {},
   "outputs": [],
   "source": [
    "MAX_NB_WORDS = len(word_index)+1"
   ]
  },
  {
   "cell_type": "code",
   "execution_count": 23,
   "metadata": {},
   "outputs": [],
   "source": [
    "#Pad the dataset with 0 in the missing spaces \n",
    "data = pad_sequences(sequences, maxlen=280)\n",
    "data_length = data.shape[1]"
   ]
  },
  {
   "cell_type": "code",
   "execution_count": 24,
   "metadata": {},
   "outputs": [],
   "source": [
    "labels = df['label']"
   ]
  },
  {
   "cell_type": "code",
   "execution_count": 25,
   "metadata": {},
   "outputs": [
    {
     "name": "stdout",
     "output_type": "stream",
     "text": [
      "Shape of data tensor: (31962, 280)\n",
      "Shape of label tensor: (31962,)\n"
     ]
    }
   ],
   "source": [
    "print('Shape of data tensor:', data.shape)\n",
    "print('Shape of label tensor:', labels.shape)"
   ]
  },
  {
   "cell_type": "code",
   "execution_count": 26,
   "metadata": {},
   "outputs": [],
   "source": [
    "# split the data into a training set and a validation set\n",
    "VALIDATION_SPLIT = 0.2\n",
    "indices = np.arange(data.shape[0])\n",
    "np.random.shuffle(indices)\n",
    "data = data[indices]\n",
    "labels = labels[indices]\n",
    "nb_validation_samples = int(VALIDATION_SPLIT * data.shape[0])\n",
    "x_train = data[:-nb_validation_samples]\n",
    "y_train = labels[:-nb_validation_samples]\n",
    "x_val = data[-nb_validation_samples:]\n",
    "y_val = labels[-nb_validation_samples:]"
   ]
  },
  {
   "cell_type": "code",
   "execution_count": 29,
   "metadata": {},
   "outputs": [
    {
     "name": "stdout",
     "output_type": "stream",
     "text": [
      "Found 14226 word vectors.\n"
     ]
    }
   ],
   "source": [
    "#Opening the Word2Vec model I created and assigning each word in the dataset to its corresponding vector\n",
    "embeddings_index = {}\n",
    "f = open('Word_2_Vec_sentiment_analysis.txt')\n",
    "for line in f:\n",
    "    values = line.split()\n",
    "    word = values[0]\n",
    "    coefs = np.asarray(values[1:], dtype='float32')\n",
    "    embeddings_index[word] = coefs\n",
    "f.close()\n",
    "\n",
    "print('Found %s word vectors.' % len(embeddings_index))\n",
    "\n",
    "\n",
    "embedding_matrix = np.zeros((len(word_index) + 1, 100))\n",
    "for word, i in tokenizer.word_index.items():\n",
    "    embedding_vector = embeddings_index.get(word)\n",
    "    if embedding_vector is not None:\n",
    "        embedding_matrix[i] = embedding_vector"
   ]
  },
  {
   "cell_type": "code",
   "execution_count": 30,
   "metadata": {},
   "outputs": [],
   "source": [
    "vocab_size = embedding_matrix.shape[0]"
   ]
  },
  {
   "cell_type": "code",
   "execution_count": 31,
   "metadata": {},
   "outputs": [
    {
     "data": {
      "text/plain": [
       "array([ 1.7425034 ,  0.8459206 ,  1.9137139 , -0.33128756, -1.5907221 ,\n",
       "        2.015965  ,  0.16864045, -0.6158594 , -1.6495322 , -0.78474605,\n",
       "       -2.5494163 , -1.1480516 ,  0.14123559, -5.6025367 ,  0.6564359 ,\n",
       "        2.419941  ,  0.48720783,  0.7628578 ,  0.72785425,  3.3380551 ,\n",
       "        1.6903839 , -0.58642733,  1.0664028 , -2.7877584 , -0.85917604,\n",
       "        3.5000212 ,  1.093444  , -1.0988823 ,  0.61426723,  1.8155472 ,\n",
       "        0.2674514 ,  1.4840056 ,  1.044791  ,  1.9552481 ,  0.830462  ,\n",
       "        0.6270268 ,  1.9521562 ,  2.236616  , -2.2534537 ,  0.40452594,\n",
       "       -4.14118   , -1.4728775 , -0.01638091, -0.37630194, -0.551468  ,\n",
       "       -0.9015885 , -1.7663898 , -1.1105192 , -0.8241339 , -2.4488518 ,\n",
       "       -1.3092519 ,  0.04708765,  3.0188558 , -0.05792954,  2.7934945 ,\n",
       "        1.22429   , -2.7353425 ,  2.2169325 ,  3.0972474 , -0.06535855,\n",
       "       -2.1273212 ,  0.34920743, -1.9474927 , -2.2612448 ,  3.5349853 ,\n",
       "       -0.02264556, -4.9004164 , -0.76780856, -0.1940777 , -0.02224573,\n",
       "        1.9394208 , -1.5518217 ,  1.801448  , -1.0512187 , -1.0693537 ,\n",
       "       -0.76468164, -2.6958702 , -0.61120504, -0.6451216 , -0.5334582 ,\n",
       "        0.08419896, -0.54590577, -1.531508  ,  0.9002153 ,  1.1689218 ,\n",
       "        2.166714  ,  1.176579  , -1.8314297 ,  1.8422282 , -2.2848785 ,\n",
       "       -1.7843926 ,  2.8514278 ,  0.59066314,  0.23439227, -1.847409  ,\n",
       "       -1.9309883 ,  2.424552  , -0.5364951 ,  2.6983192 ,  1.3137845 ],\n",
       "      dtype=float32)"
      ]
     },
     "execution_count": 31,
     "metadata": {},
     "output_type": "execute_result"
    }
   ],
   "source": [
    "#Testing the embeddings index\n",
    "embeddings_index['hate']"
   ]
  },
  {
   "cell_type": "code",
   "execution_count": 32,
   "metadata": {},
   "outputs": [
    {
     "name": "stdout",
     "output_type": "stream",
     "text": [
      "Model: \"sequential_1\"\n",
      "_________________________________________________________________\n",
      "Layer (type)                 Output Shape              Param #   \n",
      "=================================================================\n",
      "embedding_1 (Embedding)      (None, 280, 100)          3739200   \n",
      "_________________________________________________________________\n",
      "flatten_1 (Flatten)          (None, 28000)             0         \n",
      "_________________________________________________________________\n",
      "dense_1 (Dense)              (None, 1)                 28001     \n",
      "=================================================================\n",
      "Total params: 3,767,201\n",
      "Trainable params: 28,001\n",
      "Non-trainable params: 3,739,200\n",
      "_________________________________________________________________\n"
     ]
    }
   ],
   "source": [
    "#Intatiating the model, creating the embedded layer, compiling the model and summarizing it\n",
    "model_2 = Sequential()\n",
    "e = Embedding(vocab_size, 100, weights=[embedding_matrix], input_length=data_length, trainable=False)\n",
    "model_2.add(e)\n",
    "model_2.add(Flatten())\n",
    "model_2.add(Dense(1, activation='sigmoid'))\n",
    "\n",
    "opt = Adam(lr=0.00001)\n",
    "\n",
    "model_2.compile(loss='binary_crossentropy',\n",
    "              optimizer=opt,\n",
    "              metrics=['accuracy'])\n",
    "\n",
    "model_2.summary()"
   ]
  },
  {
   "cell_type": "code",
   "execution_count": 33,
   "metadata": {},
   "outputs": [
    {
     "name": "stdout",
     "output_type": "stream",
     "text": [
      "Train on 25570 samples, validate on 6392 samples\n",
      "Epoch 1/50\n",
      "25570/25570 [==============================] - 3s 121us/step - loss: 0.6612 - accuracy: 0.6069 - val_loss: 0.5799 - val_accuracy: 0.7315\n",
      "Epoch 2/50\n",
      "25570/25570 [==============================] - 2s 93us/step - loss: 0.5213 - accuracy: 0.8011 - val_loss: 0.4801 - val_accuracy: 0.8423\n",
      "Epoch 3/50\n",
      "25570/25570 [==============================] - 2s 83us/step - loss: 0.4466 - accuracy: 0.8675 - val_loss: 0.4231 - val_accuracy: 0.8861\n",
      "Epoch 4/50\n",
      "25570/25570 [==============================] - 2s 82us/step - loss: 0.4013 - accuracy: 0.8940 - val_loss: 0.3862 - val_accuracy: 0.9047\n",
      "Epoch 5/50\n",
      "25570/25570 [==============================] - 2s 84us/step - loss: 0.3706 - accuracy: 0.9072 - val_loss: 0.3601 - val_accuracy: 0.9141\n",
      "Epoch 6/50\n",
      "25570/25570 [==============================] - 2s 84us/step - loss: 0.3476 - accuracy: 0.9151 - val_loss: 0.3400 - val_accuracy: 0.9191\n",
      "Epoch 7/50\n",
      "25570/25570 [==============================] - 2s 84us/step - loss: 0.3293 - accuracy: 0.9198 - val_loss: 0.3238 - val_accuracy: 0.9230\n",
      "Epoch 8/50\n",
      "25570/25570 [==============================] - 2s 84us/step - loss: 0.3141 - accuracy: 0.9223 - val_loss: 0.3102 - val_accuracy: 0.9255\n",
      "Epoch 9/50\n",
      "25570/25570 [==============================] - 3s 104us/step - loss: 0.3011 - accuracy: 0.9250 - val_loss: 0.2985 - val_accuracy: 0.9280\n",
      "Epoch 10/50\n",
      "25570/25570 [==============================] - 2s 87us/step - loss: 0.2896 - accuracy: 0.9275 - val_loss: 0.2882 - val_accuracy: 0.9290\n",
      "Epoch 11/50\n",
      "25570/25570 [==============================] - 2s 89us/step - loss: 0.2794 - accuracy: 0.9287 - val_loss: 0.2791 - val_accuracy: 0.9302\n",
      "Epoch 12/50\n",
      "25570/25570 [==============================] - 3s 131us/step - loss: 0.2702 - accuracy: 0.9296 - val_loss: 0.2711 - val_accuracy: 0.9305\n",
      "Epoch 13/50\n",
      "25570/25570 [==============================] - 3s 130us/step - loss: 0.2620 - accuracy: 0.9302 - val_loss: 0.2638 - val_accuracy: 0.9305\n",
      "Epoch 14/50\n",
      "25570/25570 [==============================] - 2s 91us/step - loss: 0.2545 - accuracy: 0.9307 - val_loss: 0.2572 - val_accuracy: 0.9309\n",
      "Epoch 15/50\n",
      "25570/25570 [==============================] - 3s 107us/step - loss: 0.2477 - accuracy: 0.9316 - val_loss: 0.2514 - val_accuracy: 0.9319\n",
      "Epoch 16/50\n",
      "25570/25570 [==============================] - 3s 98us/step - loss: 0.2416 - accuracy: 0.9321 - val_loss: 0.2460 - val_accuracy: 0.9327\n",
      "Epoch 17/50\n",
      "25570/25570 [==============================] - 2s 89us/step - loss: 0.2359 - accuracy: 0.9332 - val_loss: 0.2411 - val_accuracy: 0.9340\n",
      "Epoch 18/50\n",
      "25570/25570 [==============================] - 3s 109us/step - loss: 0.2308 - accuracy: 0.9346 - val_loss: 0.2367 - val_accuracy: 0.9340\n",
      "Epoch 19/50\n",
      "25570/25570 [==============================] - 2s 95us/step - loss: 0.2261 - accuracy: 0.9350 - val_loss: 0.2326 - val_accuracy: 0.9341\n",
      "Epoch 20/50\n",
      "25570/25570 [==============================] - 2s 87us/step - loss: 0.2217 - accuracy: 0.9355 - val_loss: 0.2289 - val_accuracy: 0.9343\n",
      "Epoch 21/50\n",
      "25570/25570 [==============================] - 2s 85us/step - loss: 0.2178 - accuracy: 0.9358 - val_loss: 0.2255 - val_accuracy: 0.9343\n",
      "Epoch 22/50\n",
      "25570/25570 [==============================] - 2s 91us/step - loss: 0.2141 - accuracy: 0.9364 - val_loss: 0.2224 - val_accuracy: 0.9355\n",
      "Epoch 23/50\n",
      "25570/25570 [==============================] - 2s 95us/step - loss: 0.2106 - accuracy: 0.9366 - val_loss: 0.2195 - val_accuracy: 0.9351\n",
      "Epoch 24/50\n",
      "25570/25570 [==============================] - 2s 91us/step - loss: 0.2075 - accuracy: 0.9373 - val_loss: 0.2169 - val_accuracy: 0.9357\n",
      "Epoch 25/50\n",
      "25570/25570 [==============================] - 2s 87us/step - loss: 0.2045 - accuracy: 0.9376 - val_loss: 0.2145 - val_accuracy: 0.9365\n",
      "Epoch 26/50\n",
      "25570/25570 [==============================] - 2s 85us/step - loss: 0.2017 - accuracy: 0.9382 - val_loss: 0.2122 - val_accuracy: 0.9373\n",
      "Epoch 27/50\n",
      "25570/25570 [==============================] - 2s 88us/step - loss: 0.1992 - accuracy: 0.9391 - val_loss: 0.2101 - val_accuracy: 0.9370\n",
      "Epoch 28/50\n",
      "25570/25570 [==============================] - 2s 88us/step - loss: 0.1967 - accuracy: 0.9397 - val_loss: 0.2081 - val_accuracy: 0.9366\n",
      "Epoch 29/50\n",
      "25570/25570 [==============================] - 2s 88us/step - loss: 0.1945 - accuracy: 0.9399 - val_loss: 0.2063 - val_accuracy: 0.9371\n",
      "Epoch 30/50\n",
      "25570/25570 [==============================] - 2s 84us/step - loss: 0.1923 - accuracy: 0.9400 - val_loss: 0.2046 - val_accuracy: 0.9371\n",
      "Epoch 31/50\n",
      "25570/25570 [==============================] - 2s 93us/step - loss: 0.1903 - accuracy: 0.9406 - val_loss: 0.2030 - val_accuracy: 0.9371\n",
      "Epoch 32/50\n",
      "25570/25570 [==============================] - 2s 86us/step - loss: 0.1884 - accuracy: 0.9407 - val_loss: 0.2015 - val_accuracy: 0.9373\n",
      "Epoch 33/50\n",
      "25570/25570 [==============================] - 2s 81us/step - loss: 0.1866 - accuracy: 0.9407 - val_loss: 0.2001 - val_accuracy: 0.9373\n",
      "Epoch 34/50\n",
      "25570/25570 [==============================] - 2s 94us/step - loss: 0.1850 - accuracy: 0.9408 - val_loss: 0.1988 - val_accuracy: 0.9373\n",
      "Epoch 35/50\n",
      "25570/25570 [==============================] - 2s 85us/step - loss: 0.1834 - accuracy: 0.9410 - val_loss: 0.1976 - val_accuracy: 0.9374\n",
      "Epoch 36/50\n",
      "25570/25570 [==============================] - 2s 95us/step - loss: 0.1819 - accuracy: 0.9414 - val_loss: 0.1964 - val_accuracy: 0.9371\n",
      "Epoch 37/50\n",
      "25570/25570 [==============================] - 2s 98us/step - loss: 0.1804 - accuracy: 0.9418 - val_loss: 0.1953 - val_accuracy: 0.9374\n",
      "Epoch 38/50\n",
      "25570/25570 [==============================] - 2s 95us/step - loss: 0.1790 - accuracy: 0.9422 - val_loss: 0.1943 - val_accuracy: 0.9374\n",
      "Epoch 39/50\n",
      "25570/25570 [==============================] - 2s 84us/step - loss: 0.1777 - accuracy: 0.9425 - val_loss: 0.1933 - val_accuracy: 0.9374\n",
      "Epoch 40/50\n",
      "25570/25570 [==============================] - 2s 83us/step - loss: 0.1764 - accuracy: 0.9428 - val_loss: 0.1923 - val_accuracy: 0.9377\n",
      "Epoch 41/50\n",
      "25570/25570 [==============================] - 3s 112us/step - loss: 0.1752 - accuracy: 0.9432 - val_loss: 0.1914 - val_accuracy: 0.9376\n",
      "Epoch 42/50\n",
      "25570/25570 [==============================] - 2s 95us/step - loss: 0.1740 - accuracy: 0.9433 - val_loss: 0.1906 - val_accuracy: 0.9379\n",
      "Epoch 43/50\n",
      "25570/25570 [==============================] - 3s 100us/step - loss: 0.1729 - accuracy: 0.9436 - val_loss: 0.1898 - val_accuracy: 0.9379\n",
      "Epoch 44/50\n",
      "25570/25570 [==============================] - 2s 87us/step - loss: 0.1718 - accuracy: 0.9437 - val_loss: 0.1890 - val_accuracy: 0.9379\n",
      "Epoch 45/50\n",
      "25570/25570 [==============================] - 2s 90us/step - loss: 0.1708 - accuracy: 0.9440 - val_loss: 0.1883 - val_accuracy: 0.9379\n",
      "Epoch 46/50\n",
      "25570/25570 [==============================] - 2s 90us/step - loss: 0.1698 - accuracy: 0.9441 - val_loss: 0.1876 - val_accuracy: 0.9385\n",
      "Epoch 47/50\n",
      "25570/25570 [==============================] - 2s 84us/step - loss: 0.1689 - accuracy: 0.9442 - val_loss: 0.1869 - val_accuracy: 0.9388\n",
      "Epoch 48/50\n",
      "25570/25570 [==============================] - 2s 84us/step - loss: 0.1679 - accuracy: 0.9443 - val_loss: 0.1863 - val_accuracy: 0.9388\n",
      "Epoch 49/50\n",
      "25570/25570 [==============================] - 2s 83us/step - loss: 0.1670 - accuracy: 0.9444 - val_loss: 0.1857 - val_accuracy: 0.9385\n",
      "Epoch 50/50\n",
      "25570/25570 [==============================] - 2s 82us/step - loss: 0.1662 - accuracy: 0.9447 - val_loss: 0.1851 - val_accuracy: 0.9387\n"
     ]
    }
   ],
   "source": [
    "# happy learning!\n",
    "history = model_2.fit(x_train, y_train, validation_data=(x_val, y_val),\n",
    "          epochs=50, batch_size=120)"
   ]
  },
  {
   "cell_type": "code",
   "execution_count": 34,
   "metadata": {},
   "outputs": [
    {
     "data": {
      "image/png": "[encoded data removed]",
      "text/plain": [
       "<IPython.core.display.Image object>"
      ]
     },
     "execution_count": 34,
     "metadata": {},
     "output_type": "execute_result"
    }
   ],
   "source": [
    "#ploting the model and its structure\n",
    "plot_model(model_2, show_shapes=True)"
   ]
  },
  {
   "cell_type": "code",
   "execution_count": 35,
   "metadata": {},
   "outputs": [
    {
     "data": {
      "image/png": "[encoded data removed]",
      "text/plain": [
       "<Figure size 432x288 with 1 Axes>"
      ]
     },
     "metadata": {
      "needs_background": "light"
     },
     "output_type": "display_data"
    }
   ],
   "source": [
    "# summarize history for accuracy\n",
    "plt.plot(history.history['accuracy'])\n",
    "plt.plot(history.history['val_accuracy'])\n",
    "plt.title('model accuracy')\n",
    "plt.ylabel('accuracy')\n",
    "plt.xlabel('epoch')\n",
    "plt.legend(['train', 'test'], loc='upper left')\n",
    "plt.show()"
   ]
  },
  {
   "cell_type": "code",
   "execution_count": 36,
   "metadata": {},
   "outputs": [
    {
     "data": {
      "image/png": "[encoded data removed]",
      "text/plain": [
       "<Figure size 432x288 with 1 Axes>"
      ]
     },
     "metadata": {
      "needs_background": "light"
     },
     "output_type": "display_data"
    }
   ],
   "source": [
    "# summarize history for loss\n",
    "plt.plot(history.history['loss'])\n",
    "plt.plot(history.history['val_loss'])\n",
    "plt.title('model loss')\n",
    "plt.ylabel('loss')\n",
    "plt.xlabel('epoch')\n",
    "plt.legend(['train', 'test'], loc='upper left')\n",
    "plt.show()"
   ]
  },
  {
   "cell_type": "code",
   "execution_count": 37,
   "metadata": {},
   "outputs": [
    {
     "name": "stdout",
     "output_type": "stream",
     "text": [
      "Accuracy: 93.867332\n"
     ]
    }
   ],
   "source": [
    "# evaluate the model\n",
    "loss, accuracy = model_2.evaluate(x_val, y_val, verbose=0)\n",
    "print('Accuracy: %f' % (accuracy*100))"
   ]
  },
  {
   "cell_type": "code",
   "execution_count": 38,
   "metadata": {},
   "outputs": [
    {
     "data": {
      "text/html": [
       "<div>\n",
       "<style scoped>\n",
       "    .dataframe tbody tr th:only-of-type {\n",
       "        vertical-align: middle;\n",
       "    }\n",
       "\n",
       "    .dataframe tbody tr th {\n",
       "        vertical-align: top;\n",
       "    }\n",
       "\n",
       "    .dataframe thead th {\n",
       "        text-align: right;\n",
       "    }\n",
       "</style>\n",
       "<table border=\"1\" class=\"dataframe\">\n",
       "  <thead>\n",
       "    <tr style=\"text-align: right;\">\n",
       "      <th></th>\n",
       "      <th>id</th>\n",
       "      <th>label</th>\n",
       "      <th>tweet</th>\n",
       "      <th>tokenized_tweets</th>\n",
       "      <th>clean_tweets</th>\n",
       "      <th>predictions</th>\n",
       "    </tr>\n",
       "  </thead>\n",
       "  <tbody>\n",
       "    <tr>\n",
       "      <th>30758</th>\n",
       "      <td>30759</td>\n",
       "      <td>0</td>\n",
       "      <td>google has bn racist for ages...d world is jus...</td>\n",
       "      <td>[google, ha, bn, racist, for, age, d, world, i...</td>\n",
       "      <td>google ha bn racist for age d world is just ca...</td>\n",
       "      <td>1</td>\n",
       "    </tr>\n",
       "    <tr>\n",
       "      <th>1463</th>\n",
       "      <td>1464</td>\n",
       "      <td>1</td>\n",
       "      <td>tyler perry claims âreverse racismâ by cri...</td>\n",
       "      <td>[tyler, perry, claim, â, reverse, racismâ, by,...</td>\n",
       "      <td>tyler perry claim â reverse racismâ by critic ...</td>\n",
       "      <td>1</td>\n",
       "    </tr>\n",
       "    <tr>\n",
       "      <th>26273</th>\n",
       "      <td>26274</td>\n",
       "      <td>1</td>\n",
       "      <td>#people aren't protesting #trump because a #re...</td>\n",
       "      <td>[people, aren, t, protesting, trump, because, ...</td>\n",
       "      <td>people aren t protesting trump because a repub...</td>\n",
       "      <td>1</td>\n",
       "    </tr>\n",
       "    <tr>\n",
       "      <th>28294</th>\n",
       "      <td>28295</td>\n",
       "      <td>1</td>\n",
       "      <td>@user #newyear 'wish list' of  cretin #carlpal...</td>\n",
       "      <td>[user, newyear, wish, list, of, cretin, carlpa...</td>\n",
       "      <td>user newyear wish list of cretin carlpaladino ...</td>\n",
       "      <td>1</td>\n",
       "    </tr>\n",
       "    <tr>\n",
       "      <th>23690</th>\n",
       "      <td>23691</td>\n",
       "      <td>0</td>\n",
       "      <td>#aap, #congress hell bent on vitiating communa...</td>\n",
       "      <td>[aap, congress, hell, bent, on, vitiating, com...</td>\n",
       "      <td>aap congress hell bent on vitiating communal h...</td>\n",
       "      <td>1</td>\n",
       "    </tr>\n",
       "    <tr>\n",
       "      <th>...</th>\n",
       "      <td>...</td>\n",
       "      <td>...</td>\n",
       "      <td>...</td>\n",
       "      <td>...</td>\n",
       "      <td>...</td>\n",
       "      <td>...</td>\n",
       "    </tr>\n",
       "    <tr>\n",
       "      <th>11458</th>\n",
       "      <td>11459</td>\n",
       "      <td>1</td>\n",
       "      <td>@user @user @user because many of us find obam...</td>\n",
       "      <td>[user, user, user, because, many, of, u, find,...</td>\n",
       "      <td>user user user because many of u find obama s ...</td>\n",
       "      <td>1</td>\n",
       "    </tr>\n",
       "    <tr>\n",
       "      <th>19122</th>\n",
       "      <td>19123</td>\n",
       "      <td>1</td>\n",
       "      <td>black upenn freshmen added to racist social me...</td>\n",
       "      <td>[black, upenn, freshman, added, to, racist, so...</td>\n",
       "      <td>black upenn freshman added to racist social me...</td>\n",
       "      <td>1</td>\n",
       "    </tr>\n",
       "    <tr>\n",
       "      <th>9753</th>\n",
       "      <td>9754</td>\n",
       "      <td>1</td>\n",
       "      <td>@user #allahsoil police kill a substantially l...</td>\n",
       "      <td>[user, allahsoil, police, kill, a, substantial...</td>\n",
       "      <td>user allahsoil police kill a substantially lar...</td>\n",
       "      <td>1</td>\n",
       "    </tr>\n",
       "    <tr>\n",
       "      <th>8302</th>\n",
       "      <td>8303</td>\n",
       "      <td>0</td>\n",
       "      <td>~he forgot to put: sponsored by cair â¢   â¢...</td>\n",
       "      <td>[he, forgot, to, put, sponsored, by, cair, â, ...</td>\n",
       "      <td>he forgot to put sponsored by cair â â wakeupa...</td>\n",
       "      <td>1</td>\n",
       "    </tr>\n",
       "    <tr>\n",
       "      <th>5903</th>\n",
       "      <td>5904</td>\n",
       "      <td>1</td>\n",
       "      <td>sea shepherd suppoers are racist!   #antirac...</td>\n",
       "      <td>[sea, shepherd, suppoers, are, racist, antirac...</td>\n",
       "      <td>sea shepherd suppoers are racist antiracism se...</td>\n",
       "      <td>1</td>\n",
       "    </tr>\n",
       "  </tbody>\n",
       "</table>\n",
       "<p>175 rows × 6 columns</p>\n",
       "</div>"
      ],
      "text/plain": [
       "          id  label                                              tweet  \\\n",
       "30758  30759      0  google has bn racist for ages...d world is jus...   \n",
       "1463    1464      1  tyler perry claims âreverse racismâ by cri...   \n",
       "26273  26274      1  #people aren't protesting #trump because a #re...   \n",
       "28294  28295      1  @user #newyear 'wish list' of  cretin #carlpal...   \n",
       "23690  23691      0  #aap, #congress hell bent on vitiating communa...   \n",
       "...      ...    ...                                                ...   \n",
       "11458  11459      1  @user @user @user because many of us find obam...   \n",
       "19122  19123      1  black upenn freshmen added to racist social me...   \n",
       "9753    9754      1  @user #allahsoil police kill a substantially l...   \n",
       "8302    8303      0  ~he forgot to put: sponsored by cair â¢   â¢...   \n",
       "5903    5904      1    sea shepherd suppoers are racist!   #antirac...   \n",
       "\n",
       "                                        tokenized_tweets  \\\n",
       "30758  [google, ha, bn, racist, for, age, d, world, i...   \n",
       "1463   [tyler, perry, claim, â, reverse, racismâ, by,...   \n",
       "26273  [people, aren, t, protesting, trump, because, ...   \n",
       "28294  [user, newyear, wish, list, of, cretin, carlpa...   \n",
       "23690  [aap, congress, hell, bent, on, vitiating, com...   \n",
       "...                                                  ...   \n",
       "11458  [user, user, user, because, many, of, u, find,...   \n",
       "19122  [black, upenn, freshman, added, to, racist, so...   \n",
       "9753   [user, allahsoil, police, kill, a, substantial...   \n",
       "8302   [he, forgot, to, put, sponsored, by, cair, â, ...   \n",
       "5903   [sea, shepherd, suppoers, are, racist, antirac...   \n",
       "\n",
       "                                            clean_tweets  predictions  \n",
       "30758  google ha bn racist for age d world is just ca...            1  \n",
       "1463   tyler perry claim â reverse racismâ by critic ...            1  \n",
       "26273  people aren t protesting trump because a repub...            1  \n",
       "28294  user newyear wish list of cretin carlpaladino ...            1  \n",
       "23690  aap congress hell bent on vitiating communal h...            1  \n",
       "...                                                  ...          ...  \n",
       "11458  user user user because many of u find obama s ...            1  \n",
       "19122  black upenn freshman added to racist social me...            1  \n",
       "9753   user allahsoil police kill a substantially lar...            1  \n",
       "8302   he forgot to put sponsored by cair â â wakeupa...            1  \n",
       "5903   sea shepherd suppoers are racist antiracism se...            1  \n",
       "\n",
       "[175 rows x 6 columns]"
      ]
     },
     "execution_count": 38,
     "metadata": {},
     "output_type": "execute_result"
    }
   ],
   "source": [
    "#Creating predictions for our validation set and adding it to the dataset for a better comparison\n",
    "predictions = model_2.predict_classes(x_val)\n",
    "df_eval = df.ix[list(y_val.index.values)]\n",
    "df_eval['predictions'] = predictions\n",
    "df_eval[df_eval['predictions'] ==1]"
   ]
  },
  {
   "cell_type": "code",
   "execution_count": 43,
   "metadata": {},
   "outputs": [
    {
     "data": {
      "text/plain": [
       "'google has bn racist for ages...d world is just catching on...  '"
      ]
     },
     "execution_count": 43,
     "metadata": {},
     "output_type": "execute_result"
    }
   ],
   "source": [
    "#An example of tweet that classified as hate tweet by the model and wasn't label this way in the dataset\n",
    "df_eval['tweet'][30758]"
   ]
  },
  {
   "cell_type": "markdown",
   "metadata": {},
   "source": [
    "# Pre-Trained GloVe Embedding\n",
    "Now I'll do the same, but this time, using a pre trained GloVe Embedding and test the results"
   ]
  },
  {
   "cell_type": "code",
   "execution_count": 44,
   "metadata": {},
   "outputs": [
    {
     "name": "stdout",
     "output_type": "stream",
     "text": [
      "Found 400000 word vectors.\n"
     ]
    }
   ],
   "source": [
    "#Opening the GloVe model and assigning each word in the dataset to its corresponding vector\n",
    "embeddings_index = {}\n",
    "f = open('glove.6B.100d.txt', encoding='utf8')\n",
    "for line in f:\n",
    "    values = line.split()\n",
    "    word = values[0]\n",
    "    coefs = np.asarray(values[1:], dtype='float32')\n",
    "    embeddings_index[word] = coefs\n",
    "f.close()\n",
    "\n",
    "print('Found %s word vectors.' % len(embeddings_index))"
   ]
  },
  {
   "cell_type": "code",
   "execution_count": 45,
   "metadata": {},
   "outputs": [],
   "source": [
    "embedding_matrix = np.zeros((len(word_index) + 1, 100))\n",
    "for word, i in tokenizer.word_index.items():\n",
    "    embedding_vector = embeddings_index.get(word)\n",
    "    if embedding_vector is not None:\n",
    "        embedding_matrix[i] = embedding_vector"
   ]
  },
  {
   "cell_type": "code",
   "execution_count": 46,
   "metadata": {},
   "outputs": [
    {
     "data": {
      "text/plain": [
       "37392"
      ]
     },
     "execution_count": 46,
     "metadata": {},
     "output_type": "execute_result"
    }
   ],
   "source": [
    "len(word_index) + 1"
   ]
  },
  {
   "cell_type": "code",
   "execution_count": 47,
   "metadata": {},
   "outputs": [],
   "source": [
    "vocab_size = embedding_matrix.shape[0]"
   ]
  },
  {
   "cell_type": "code",
   "execution_count": 48,
   "metadata": {},
   "outputs": [
    {
     "data": {
      "text/plain": [
       "37392"
      ]
     },
     "execution_count": 48,
     "metadata": {},
     "output_type": "execute_result"
    }
   ],
   "source": [
    "vocab_size"
   ]
  },
  {
   "cell_type": "code",
   "execution_count": 49,
   "metadata": {},
   "outputs": [
    {
     "data": {
      "text/plain": [
       "array([ 0.17659  ,  0.50064  ,  0.0088315, -1.0508   , -0.16269  ,\n",
       "        1.2352   , -0.59918  , -0.63878  ,  0.53806  ,  0.27061  ,\n",
       "       -0.34867  ,  0.080632 , -0.47525  ,  0.0038664,  0.44793  ,\n",
       "        0.16638  , -0.16975  ,  0.26788  , -0.8065   ,  0.87468  ,\n",
       "        0.55568  ,  0.14944  , -0.1657   , -0.55191  ,  0.065539 ,\n",
       "        0.11676  ,  0.44888  , -0.30606  ,  0.34267  , -0.29187  ,\n",
       "        0.41492  ,  0.79645  ,  0.34349  ,  0.22112  , -0.17078  ,\n",
       "       -0.18531  ,  0.11219  , -0.36115  ,  0.59638  ,  0.30354  ,\n",
       "       -0.71878  , -0.024002 , -0.36848  , -0.48278  , -0.54718  ,\n",
       "       -0.48508  ,  0.45822  , -0.21857  , -0.219    , -1.3933   ,\n",
       "        0.65796  ,  0.45913  , -0.58279  ,  0.48452  , -0.29622  ,\n",
       "       -0.85992  ,  1.063    ,  0.54207  ,  1.0812   , -0.28798  ,\n",
       "       -0.18865  ,  0.58522  , -0.29666  , -1.3604   ,  0.5092   ,\n",
       "        0.80366  ,  1.1011   ,  0.38638  ,  0.22916  ,  0.069255 ,\n",
       "        0.25114  , -0.73256  , -0.17292  ,  0.12404  , -0.62077  ,\n",
       "        0.56992  ,  0.27403  , -0.11443  , -0.4188   ,  0.13818  ,\n",
       "        0.09343  , -0.12543  , -0.26382  ,  0.5857   , -1.1839   ,\n",
       "       -0.2467   , -0.74509  , -0.26249  , -0.060023 ,  0.1304   ,\n",
       "       -0.60247  , -0.49028  , -0.22185  ,  0.09243  ,  0.37385  ,\n",
       "       -0.66878  , -0.33497  ,  0.17022  ,  0.35     ,  0.073571 ],\n",
       "      dtype=float32)"
      ]
     },
     "execution_count": 49,
     "metadata": {},
     "output_type": "execute_result"
    }
   ],
   "source": [
    "#Testing the embeddings index\n",
    "embeddings_index['hate']"
   ]
  },
  {
   "cell_type": "code",
   "execution_count": 50,
   "metadata": {},
   "outputs": [
    {
     "name": "stdout",
     "output_type": "stream",
     "text": [
      "Model: \"sequential_2\"\n",
      "_________________________________________________________________\n",
      "Layer (type)                 Output Shape              Param #   \n",
      "=================================================================\n",
      "embedding_2 (Embedding)      (None, 280, 100)          3739200   \n",
      "_________________________________________________________________\n",
      "flatten_2 (Flatten)          (None, 28000)             0         \n",
      "_________________________________________________________________\n",
      "dense_2 (Dense)              (None, 1)                 28001     \n",
      "=================================================================\n",
      "Total params: 3,767,201\n",
      "Trainable params: 28,001\n",
      "Non-trainable params: 3,739,200\n",
      "_________________________________________________________________\n"
     ]
    }
   ],
   "source": [
    "#Intatiating the model, creating the embedded layer, compiling the model and summarizing it\n",
    "model_2 = Sequential()\n",
    "e = Embedding(vocab_size, 100, weights=[embedding_matrix], input_length=data_length, trainable=False)\n",
    "model_2.add(e)\n",
    "model_2.add(Flatten())\n",
    "model_2.add(Dense(1, activation='sigmoid'))\n",
    "\n",
    "opt = Adam(lr=0.00001)\n",
    "\n",
    "model_2.compile(loss='binary_crossentropy',\n",
    "              optimizer=opt,\n",
    "              metrics=['accuracy'])\n",
    "\n",
    "model_2.summary()"
   ]
  },
  {
   "cell_type": "code",
   "execution_count": 51,
   "metadata": {},
   "outputs": [
    {
     "name": "stdout",
     "output_type": "stream",
     "text": [
      "Train on 25570 samples, validate on 6392 samples\n",
      "Epoch 1/50\n",
      "25570/25570 [==============================] - 2s 97us/step - loss: 0.6188 - accuracy: 0.7630 - val_loss: 0.5409 - val_accuracy: 0.9018\n",
      "Epoch 2/50\n",
      "25570/25570 [==============================] - 2s 79us/step - loss: 0.4916 - accuracy: 0.9121 - val_loss: 0.4477 - val_accuracy: 0.9218\n",
      "Epoch 3/50\n",
      "25570/25570 [==============================] - 2s 88us/step - loss: 0.4218 - accuracy: 0.9221 - val_loss: 0.3945 - val_accuracy: 0.9279\n",
      "Epoch 4/50\n",
      "25570/25570 [==============================] - 2s 90us/step - loss: 0.3808 - accuracy: 0.9245 - val_loss: 0.3617 - val_accuracy: 0.9288\n",
      "Epoch 5/50\n",
      "25570/25570 [==============================] - 2s 80us/step - loss: 0.3548 - accuracy: 0.9257 - val_loss: 0.3400 - val_accuracy: 0.9293\n",
      "Epoch 6/50\n",
      "25570/25570 [==============================] - 2s 85us/step - loss: 0.3371 - accuracy: 0.9263 - val_loss: 0.3249 - val_accuracy: 0.9294\n",
      "Epoch 7/50\n",
      "25570/25570 [==============================] - 2s 78us/step - loss: 0.3243 - accuracy: 0.9269 - val_loss: 0.3136 - val_accuracy: 0.9299\n",
      "Epoch 8/50\n",
      "25570/25570 [==============================] - 2s 79us/step - loss: 0.3145 - accuracy: 0.9271 - val_loss: 0.3047 - val_accuracy: 0.9305\n",
      "Epoch 9/50\n",
      "25570/25570 [==============================] - 2s 80us/step - loss: 0.3065 - accuracy: 0.9275 - val_loss: 0.2974 - val_accuracy: 0.9313\n",
      "Epoch 10/50\n",
      "25570/25570 [==============================] - 2s 81us/step - loss: 0.2998 - accuracy: 0.9279 - val_loss: 0.2912 - val_accuracy: 0.9316\n",
      "Epoch 11/50\n",
      "25570/25570 [==============================] - 2s 88us/step - loss: 0.2939 - accuracy: 0.9281 - val_loss: 0.2856 - val_accuracy: 0.9321\n",
      "Epoch 12/50\n",
      "25570/25570 [==============================] - 2s 90us/step - loss: 0.2887 - accuracy: 0.9282 - val_loss: 0.2807 - val_accuracy: 0.9323\n",
      "Epoch 13/50\n",
      "25570/25570 [==============================] - 2s 83us/step - loss: 0.2838 - accuracy: 0.9282 - val_loss: 0.2762 - val_accuracy: 0.9324\n",
      "Epoch 14/50\n",
      "25570/25570 [==============================] - 2s 82us/step - loss: 0.2794 - accuracy: 0.9283 - val_loss: 0.2720 - val_accuracy: 0.9326\n",
      "Epoch 15/50\n",
      "25570/25570 [==============================] - 2s 93us/step - loss: 0.2751 - accuracy: 0.9285 - val_loss: 0.2681 - val_accuracy: 0.9329\n",
      "Epoch 16/50\n",
      "25570/25570 [==============================] - 2s 88us/step - loss: 0.2712 - accuracy: 0.9286 - val_loss: 0.2645 - val_accuracy: 0.9329\n",
      "Epoch 17/50\n",
      "25570/25570 [==============================] - 2s 86us/step - loss: 0.2675 - accuracy: 0.9288 - val_loss: 0.2611 - val_accuracy: 0.9329\n",
      "Epoch 18/50\n",
      "25570/25570 [==============================] - 2s 80us/step - loss: 0.2640 - accuracy: 0.9289 - val_loss: 0.2578 - val_accuracy: 0.9330\n",
      "Epoch 19/50\n",
      "25570/25570 [==============================] - 2s 81us/step - loss: 0.2606 - accuracy: 0.9289 - val_loss: 0.2548 - val_accuracy: 0.9332\n",
      "Epoch 20/50\n",
      "25570/25570 [==============================] - 3s 102us/step - loss: 0.2575 - accuracy: 0.9289 - val_loss: 0.2519 - val_accuracy: 0.9332\n",
      "Epoch 21/50\n",
      "25570/25570 [==============================] - 3s 102us/step - loss: 0.2545 - accuracy: 0.9289 - val_loss: 0.2492 - val_accuracy: 0.9332\n",
      "Epoch 22/50\n",
      "25570/25570 [==============================] - 2s 95us/step - loss: 0.2517 - accuracy: 0.9289 - val_loss: 0.2467 - val_accuracy: 0.9334\n",
      "Epoch 23/50\n",
      "25570/25570 [==============================] - 2s 94us/step - loss: 0.2491 - accuracy: 0.9289 - val_loss: 0.2443 - val_accuracy: 0.9334\n",
      "Epoch 24/50\n",
      "25570/25570 [==============================] - 3s 104us/step - loss: 0.2465 - accuracy: 0.9290 - val_loss: 0.2420 - val_accuracy: 0.9334\n",
      "Epoch 25/50\n",
      "25570/25570 [==============================] - 2s 86us/step - loss: 0.2442 - accuracy: 0.9290 - val_loss: 0.2398 - val_accuracy: 0.9334\n",
      "Epoch 26/50\n",
      "25570/25570 [==============================] - 2s 79us/step - loss: 0.2419 - accuracy: 0.9290 - val_loss: 0.2377 - val_accuracy: 0.9334\n",
      "Epoch 27/50\n",
      "25570/25570 [==============================] - 3s 106us/step - loss: 0.2397 - accuracy: 0.9291 - val_loss: 0.2358 - val_accuracy: 0.9334\n",
      "Epoch 28/50\n",
      "25570/25570 [==============================] - 2s 86us/step - loss: 0.2376 - accuracy: 0.9292 - val_loss: 0.2339 - val_accuracy: 0.9334\n",
      "Epoch 29/50\n",
      "25570/25570 [==============================] - 2s 79us/step - loss: 0.2356 - accuracy: 0.9292 - val_loss: 0.2321 - val_accuracy: 0.9334\n",
      "Epoch 30/50\n",
      "25570/25570 [==============================] - 2s 78us/step - loss: 0.2337 - accuracy: 0.9292 - val_loss: 0.2304 - val_accuracy: 0.9335\n",
      "Epoch 31/50\n",
      "25570/25570 [==============================] - 2s 91us/step - loss: 0.2319 - accuracy: 0.9293 - val_loss: 0.2288 - val_accuracy: 0.9335\n",
      "Epoch 32/50\n",
      "25570/25570 [==============================] - 2s 81us/step - loss: 0.2301 - accuracy: 0.9293 - val_loss: 0.2272 - val_accuracy: 0.9335\n",
      "Epoch 33/50\n",
      "25570/25570 [==============================] - 2s 78us/step - loss: 0.2284 - accuracy: 0.9293 - val_loss: 0.2257 - val_accuracy: 0.9335\n",
      "Epoch 34/50\n",
      "25570/25570 [==============================] - 2s 71us/step - loss: 0.2267 - accuracy: 0.9294 - val_loss: 0.2243 - val_accuracy: 0.9337\n",
      "Epoch 35/50\n",
      "25570/25570 [==============================] - 2s 79us/step - loss: 0.2252 - accuracy: 0.9295 - val_loss: 0.2229 - val_accuracy: 0.9338\n",
      "Epoch 36/50\n",
      "25570/25570 [==============================] - 2s 73us/step - loss: 0.2237 - accuracy: 0.9296 - val_loss: 0.2215 - val_accuracy: 0.9338\n",
      "Epoch 37/50\n",
      "25570/25570 [==============================] - 2s 74us/step - loss: 0.2222 - accuracy: 0.9300 - val_loss: 0.2203 - val_accuracy: 0.9341\n",
      "Epoch 38/50\n",
      "25570/25570 [==============================] - 2s 74us/step - loss: 0.2208 - accuracy: 0.9306 - val_loss: 0.2191 - val_accuracy: 0.9344\n",
      "Epoch 39/50\n",
      "25570/25570 [==============================] - 2s 77us/step - loss: 0.2195 - accuracy: 0.9309 - val_loss: 0.2179 - val_accuracy: 0.9344\n",
      "Epoch 40/50\n",
      "25570/25570 [==============================] - 2s 74us/step - loss: 0.2182 - accuracy: 0.9310 - val_loss: 0.2167 - val_accuracy: 0.9343\n",
      "Epoch 41/50\n",
      "25570/25570 [==============================] - 2s 83us/step - loss: 0.2169 - accuracy: 0.9309 - val_loss: 0.2156 - val_accuracy: 0.9343\n",
      "Epoch 42/50\n",
      "25570/25570 [==============================] - 2s 79us/step - loss: 0.2157 - accuracy: 0.9316 - val_loss: 0.2146 - val_accuracy: 0.9351\n",
      "Epoch 43/50\n",
      "25570/25570 [==============================] - 2s 78us/step - loss: 0.2146 - accuracy: 0.9326 - val_loss: 0.2136 - val_accuracy: 0.9352\n",
      "Epoch 44/50\n",
      "25570/25570 [==============================] - 2s 86us/step - loss: 0.2134 - accuracy: 0.9327 - val_loss: 0.2126 - val_accuracy: 0.9362\n",
      "Epoch 45/50\n",
      "25570/25570 [==============================] - 2s 79us/step - loss: 0.2123 - accuracy: 0.9334 - val_loss: 0.2117 - val_accuracy: 0.9360\n",
      "Epoch 46/50\n",
      "25570/25570 [==============================] - 2s 77us/step - loss: 0.2113 - accuracy: 0.9339 - val_loss: 0.2107 - val_accuracy: 0.9365\n",
      "Epoch 47/50\n",
      "25570/25570 [==============================] - 2s 75us/step - loss: 0.2103 - accuracy: 0.9340 - val_loss: 0.2099 - val_accuracy: 0.9366\n",
      "Epoch 48/50\n",
      "25570/25570 [==============================] - 2s 75us/step - loss: 0.2093 - accuracy: 0.9341 - val_loss: 0.2090 - val_accuracy: 0.9370\n",
      "Epoch 49/50\n",
      "25570/25570 [==============================] - 2s 73us/step - loss: 0.2083 - accuracy: 0.9343 - val_loss: 0.2082 - val_accuracy: 0.9368\n",
      "Epoch 50/50\n",
      "25570/25570 [==============================] - 2s 73us/step - loss: 0.2074 - accuracy: 0.9343 - val_loss: 0.2074 - val_accuracy: 0.9368\n"
     ]
    }
   ],
   "source": [
    "# happy learning!\n",
    "history = model_2.fit(x_train, y_train, validation_data=(x_val, y_val),\n",
    "          epochs=50, batch_size=120)"
   ]
  },
  {
   "cell_type": "code",
   "execution_count": 52,
   "metadata": {},
   "outputs": [
    {
     "data": {
      "image/png": "[encoded data removed]",
      "text/plain": [
       "<Figure size 432x288 with 1 Axes>"
      ]
     },
     "metadata": {
      "needs_background": "light"
     },
     "output_type": "display_data"
    }
   ],
   "source": [
    "# summarize history for accuracy\n",
    "plt.plot(history.history['accuracy'])\n",
    "plt.plot(history.history['val_accuracy'])\n",
    "plt.title('model accuracy')\n",
    "plt.ylabel('accuracy')\n",
    "plt.xlabel('epoch')\n",
    "plt.legend(['train', 'test'], loc='upper left')\n",
    "plt.show()"
   ]
  },
  {
   "cell_type": "code",
   "execution_count": 53,
   "metadata": {},
   "outputs": [
    {
     "data": {
      "image/png": "[encoded data removed]",
      "text/plain": [
       "<Figure size 432x288 with 1 Axes>"
      ]
     },
     "metadata": {
      "needs_background": "light"
     },
     "output_type": "display_data"
    }
   ],
   "source": [
    "# summarize history for loss\n",
    "plt.plot(history.history['loss'])\n",
    "plt.plot(history.history['val_loss'])\n",
    "plt.title('model loss')\n",
    "plt.ylabel('loss')\n",
    "plt.xlabel('epoch')\n",
    "plt.legend(['train', 'test'], loc='upper left')\n",
    "plt.show()"
   ]
  },
  {
   "cell_type": "code",
   "execution_count": 54,
   "metadata": {},
   "outputs": [
    {
     "name": "stdout",
     "output_type": "stream",
     "text": [
      "Accuracy: 93.679601\n"
     ]
    }
   ],
   "source": [
    "# evaluate the model\n",
    "loss, accuracy = model_2.evaluate(x_val, y_val, verbose=0)\n",
    "print('Accuracy: %f' % (accuracy*100))"
   ]
  },
  {
   "cell_type": "code",
   "execution_count": 55,
   "metadata": {},
   "outputs": [
    {
     "data": {
      "text/html": [
       "<div>\n",
       "<style scoped>\n",
       "    .dataframe tbody tr th:only-of-type {\n",
       "        vertical-align: middle;\n",
       "    }\n",
       "\n",
       "    .dataframe tbody tr th {\n",
       "        vertical-align: top;\n",
       "    }\n",
       "\n",
       "    .dataframe thead th {\n",
       "        text-align: right;\n",
       "    }\n",
       "</style>\n",
       "<table border=\"1\" class=\"dataframe\">\n",
       "  <thead>\n",
       "    <tr style=\"text-align: right;\">\n",
       "      <th></th>\n",
       "      <th>id</th>\n",
       "      <th>label</th>\n",
       "      <th>tweet</th>\n",
       "      <th>tokenized_tweets</th>\n",
       "      <th>clean_tweets</th>\n",
       "      <th>predictions</th>\n",
       "      <th>predictions_GloVe</th>\n",
       "    </tr>\n",
       "  </thead>\n",
       "  <tbody>\n",
       "    <tr>\n",
       "      <th>31742</th>\n",
       "      <td>31743</td>\n",
       "      <td>1</td>\n",
       "      <td>@user you might be a libtard if... #libtard  #...</td>\n",
       "      <td>[user, you, might, be, a, libtard, if, libtard...</td>\n",
       "      <td>user you might be a libtard if libtard sjw lib...</td>\n",
       "      <td>1</td>\n",
       "      <td>1</td>\n",
       "    </tr>\n",
       "    <tr>\n",
       "      <th>20222</th>\n",
       "      <td>20223</td>\n",
       "      <td>1</td>\n",
       "      <td>in the case of the commonwealth of the interne...</td>\n",
       "      <td>[in, the, case, of, the, commonwealth, of, the...</td>\n",
       "      <td>in the case of the commonwealth of the interne...</td>\n",
       "      <td>0</td>\n",
       "      <td>1</td>\n",
       "    </tr>\n",
       "    <tr>\n",
       "      <th>28727</th>\n",
       "      <td>28728</td>\n",
       "      <td>1</td>\n",
       "      <td>@user #trump is guilty of treason !  we #there...</td>\n",
       "      <td>[user, trump, is, guilty, of, treason, we, the...</td>\n",
       "      <td>user trump is guilty of treason we theresistan...</td>\n",
       "      <td>1</td>\n",
       "      <td>1</td>\n",
       "    </tr>\n",
       "    <tr>\n",
       "      <th>11303</th>\n",
       "      <td>11304</td>\n",
       "      <td>1</td>\n",
       "      <td>@user @user @user @user says a president elect...</td>\n",
       "      <td>[user, user, user, user, say, a, president, el...</td>\n",
       "      <td>user user user user say a president elect that...</td>\n",
       "      <td>1</td>\n",
       "      <td>1</td>\n",
       "    </tr>\n",
       "    <tr>\n",
       "      <th>12064</th>\n",
       "      <td>12065</td>\n",
       "      <td>1</td>\n",
       "      <td>@user racist  austin police ofc cameron staff ...</td>\n",
       "      <td>[user, racist, austin, police, ofc, cameron, s...</td>\n",
       "      <td>user racist austin police ofc cameron staff ca...</td>\n",
       "      <td>1</td>\n",
       "      <td>1</td>\n",
       "    </tr>\n",
       "    <tr>\n",
       "      <th>9462</th>\n",
       "      <td>9463</td>\n",
       "      <td>1</td>\n",
       "      <td>you might be a libtard if... #libtard  #sjw #l...</td>\n",
       "      <td>[you, might, be, a, libtard, if, libtard, sjw,...</td>\n",
       "      <td>you might be a libtard if libtard sjw liberal ...</td>\n",
       "      <td>1</td>\n",
       "      <td>1</td>\n",
       "    </tr>\n",
       "    <tr>\n",
       "      <th>20787</th>\n",
       "      <td>20788</td>\n",
       "      <td>1</td>\n",
       "      <td>@user #allahsoil most deaths caused by islamic...</td>\n",
       "      <td>[user, allahsoil, most, death, caused, by, isl...</td>\n",
       "      <td>user allahsoil most death caused by islamic ex...</td>\n",
       "      <td>1</td>\n",
       "      <td>1</td>\n",
       "    </tr>\n",
       "    <tr>\n",
       "      <th>15466</th>\n",
       "      <td>15467</td>\n",
       "      <td>1</td>\n",
       "      <td>you might be a libtard if... #libtard  #sjw #l...</td>\n",
       "      <td>[you, might, be, a, libtard, if, libtard, sjw,...</td>\n",
       "      <td>you might be a libtard if libtard sjw liberal ...</td>\n",
       "      <td>1</td>\n",
       "      <td>1</td>\n",
       "    </tr>\n",
       "    <tr>\n",
       "      <th>15740</th>\n",
       "      <td>15741</td>\n",
       "      <td>1</td>\n",
       "      <td>@user #allahsoil the term jihad is a highly-co...</td>\n",
       "      <td>[user, allahsoil, the, term, jihad, is, a, hig...</td>\n",
       "      <td>user allahsoil the term jihad is a highly cont...</td>\n",
       "      <td>1</td>\n",
       "      <td>1</td>\n",
       "    </tr>\n",
       "    <tr>\n",
       "      <th>29625</th>\n",
       "      <td>29626</td>\n",
       "      <td>1</td>\n",
       "      <td>@user #allahsoil many politicians claim that j...</td>\n",
       "      <td>[user, allahsoil, many, politician, claim, tha...</td>\n",
       "      <td>user allahsoil many politician claim that jiha...</td>\n",
       "      <td>1</td>\n",
       "      <td>1</td>\n",
       "    </tr>\n",
       "    <tr>\n",
       "      <th>23055</th>\n",
       "      <td>23056</td>\n",
       "      <td>1</td>\n",
       "      <td>the radicalism of woodrow wilsonâs racism  #...</td>\n",
       "      <td>[the, radicalism, of, woodrow, wilsonâ, s, rac...</td>\n",
       "      <td>the radicalism of woodrow wilsonâ s racism bla...</td>\n",
       "      <td>1</td>\n",
       "      <td>1</td>\n",
       "    </tr>\n",
       "    <tr>\n",
       "      <th>24566</th>\n",
       "      <td>24567</td>\n",
       "      <td>1</td>\n",
       "      <td>#rebellion in the #uk? when you #dontbuythesun...</td>\n",
       "      <td>[rebellion, in, the, uk, when, you, dontbuythe...</td>\n",
       "      <td>rebellion in the uk when you dontbuythesun amp...</td>\n",
       "      <td>1</td>\n",
       "      <td>1</td>\n",
       "    </tr>\n",
       "    <tr>\n",
       "      <th>15435</th>\n",
       "      <td>15436</td>\n",
       "      <td>1</td>\n",
       "      <td>@user #sikh #temple vandalised in in #calgary,...</td>\n",
       "      <td>[user, sikh, temple, vandalised, in, in, calga...</td>\n",
       "      <td>user sikh temple vandalised in in calgary wso ...</td>\n",
       "      <td>1</td>\n",
       "      <td>1</td>\n",
       "    </tr>\n",
       "    <tr>\n",
       "      <th>27577</th>\n",
       "      <td>27578</td>\n",
       "      <td>1</td>\n",
       "      <td>@user you might be a libtard if... #libtard  #...</td>\n",
       "      <td>[user, you, might, be, a, libtard, if, libtard...</td>\n",
       "      <td>user you might be a libtard if libtard sjw lib...</td>\n",
       "      <td>1</td>\n",
       "      <td>1</td>\n",
       "    </tr>\n",
       "    <tr>\n",
       "      <th>28145</th>\n",
       "      <td>28146</td>\n",
       "      <td>0</td>\n",
       "      <td>@user @user @user she is not only a \"low infor...</td>\n",
       "      <td>[user, user, user, she, is, not, only, a, low,...</td>\n",
       "      <td>user user user she is not only a low informati...</td>\n",
       "      <td>0</td>\n",
       "      <td>1</td>\n",
       "    </tr>\n",
       "    <tr>\n",
       "      <th>20651</th>\n",
       "      <td>20652</td>\n",
       "      <td>1</td>\n",
       "      <td>you might be a libtard if... #libtard  #sjw #l...</td>\n",
       "      <td>[you, might, be, a, libtard, if, libtard, sjw,...</td>\n",
       "      <td>you might be a libtard if libtard sjw liberal ...</td>\n",
       "      <td>1</td>\n",
       "      <td>1</td>\n",
       "    </tr>\n",
       "    <tr>\n",
       "      <th>5686</th>\n",
       "      <td>5687</td>\n",
       "      <td>0</td>\n",
       "      <td>@user #onthisday 1744 a young child died in #...</td>\n",
       "      <td>[user, onthisday, a, young, child, died, in, n...</td>\n",
       "      <td>user onthisday a young child died in newcastle...</td>\n",
       "      <td>0</td>\n",
       "      <td>1</td>\n",
       "    </tr>\n",
       "    <tr>\n",
       "      <th>4167</th>\n",
       "      <td>4168</td>\n",
       "      <td>1</td>\n",
       "      <td>@user chaplin - the dictator speech  via @user...</td>\n",
       "      <td>[user, chaplin, the, dictator, speech, via, us...</td>\n",
       "      <td>user chaplin the dictator speech via user ther...</td>\n",
       "      <td>1</td>\n",
       "      <td>1</td>\n",
       "    </tr>\n",
       "    <tr>\n",
       "      <th>11387</th>\n",
       "      <td>11388</td>\n",
       "      <td>0</td>\n",
       "      <td>@user easier for barrack hussein obama to bla...</td>\n",
       "      <td>[user, easier, for, barrack, hussein, obama, t...</td>\n",
       "      <td>user easier for barrack hussein obama to blame...</td>\n",
       "      <td>0</td>\n",
       "      <td>1</td>\n",
       "    </tr>\n",
       "    <tr>\n",
       "      <th>9179</th>\n",
       "      <td>9180</td>\n",
       "      <td>1</td>\n",
       "      <td>@user #sikh #temple vandalised in in #calgary,...</td>\n",
       "      <td>[user, sikh, temple, vandalised, in, in, calga...</td>\n",
       "      <td>user sikh temple vandalised in in calgary wso ...</td>\n",
       "      <td>1</td>\n",
       "      <td>1</td>\n",
       "    </tr>\n",
       "    <tr>\n",
       "      <th>23299</th>\n",
       "      <td>23300</td>\n",
       "      <td>1</td>\n",
       "      <td>@user how liberal #democrats institutionalized...</td>\n",
       "      <td>[user, how, liberal, democrat, institutionaliz...</td>\n",
       "      <td>user how liberal democrat institutionalized wh...</td>\n",
       "      <td>1</td>\n",
       "      <td>1</td>\n",
       "    </tr>\n",
       "    <tr>\n",
       "      <th>20828</th>\n",
       "      <td>20829</td>\n",
       "      <td>1</td>\n",
       "      <td>the #nc \"monster law\" made by republican lawma...</td>\n",
       "      <td>[the, nc, monster, law, made, by, republican, ...</td>\n",
       "      <td>the nc monster law made by republican lawmaker...</td>\n",
       "      <td>1</td>\n",
       "      <td>1</td>\n",
       "    </tr>\n",
       "    <tr>\n",
       "      <th>23679</th>\n",
       "      <td>23680</td>\n",
       "      <td>1</td>\n",
       "      <td>give hope. dismantle systemic racism.  #allies...</td>\n",
       "      <td>[give, hope, dismantle, systemic, racism, alli...</td>\n",
       "      <td>give hope dismantle systemic racism alliesforb...</td>\n",
       "      <td>0</td>\n",
       "      <td>1</td>\n",
       "    </tr>\n",
       "    <tr>\n",
       "      <th>9072</th>\n",
       "      <td>9073</td>\n",
       "      <td>0</td>\n",
       "      <td>@user @user @user  - un investigators: \"isis i...</td>\n",
       "      <td>[user, user, user, un, investigator, isi, is, ...</td>\n",
       "      <td>user user user un investigator isi is committi...</td>\n",
       "      <td>1</td>\n",
       "      <td>1</td>\n",
       "    </tr>\n",
       "    <tr>\n",
       "      <th>3680</th>\n",
       "      <td>3681</td>\n",
       "      <td>1</td>\n",
       "      <td>@user @user @user  is this a new one? either w...</td>\n",
       "      <td>[user, user, user, is, this, a, new, one, eith...</td>\n",
       "      <td>user user user is this a new one either way me...</td>\n",
       "      <td>0</td>\n",
       "      <td>1</td>\n",
       "    </tr>\n",
       "    <tr>\n",
       "      <th>17051</th>\n",
       "      <td>17052</td>\n",
       "      <td>1</td>\n",
       "      <td>@user you might be a libtard if... #libtard  #...</td>\n",
       "      <td>[user, you, might, be, a, libtard, if, libtard...</td>\n",
       "      <td>user you might be a libtard if libtard sjw lib...</td>\n",
       "      <td>1</td>\n",
       "      <td>1</td>\n",
       "    </tr>\n",
       "    <tr>\n",
       "      <th>10603</th>\n",
       "      <td>10604</td>\n",
       "      <td>1</td>\n",
       "      <td>#sikh #temple vandalised in in #calgary, #wso ...</td>\n",
       "      <td>[sikh, temple, vandalised, in, in, calgary, ws...</td>\n",
       "      <td>sikh temple vandalised in in calgary wso conde...</td>\n",
       "      <td>1</td>\n",
       "      <td>1</td>\n",
       "    </tr>\n",
       "    <tr>\n",
       "      <th>5492</th>\n",
       "      <td>5493</td>\n",
       "      <td>1</td>\n",
       "      <td>@user #allahsoil we should not conflate islami...</td>\n",
       "      <td>[user, allahsoil, we, should, not, conflate, i...</td>\n",
       "      <td>user allahsoil we should not conflate islamic ...</td>\n",
       "      <td>1</td>\n",
       "      <td>1</td>\n",
       "    </tr>\n",
       "    <tr>\n",
       "      <th>11213</th>\n",
       "      <td>11214</td>\n",
       "      <td>1</td>\n",
       "      <td>@user you might be a libtard if... #libtard  #...</td>\n",
       "      <td>[user, you, might, be, a, libtard, if, libtard...</td>\n",
       "      <td>user you might be a libtard if libtard sjw lib...</td>\n",
       "      <td>1</td>\n",
       "      <td>1</td>\n",
       "    </tr>\n",
       "    <tr>\n",
       "      <th>10855</th>\n",
       "      <td>10856</td>\n",
       "      <td>1</td>\n",
       "      <td>you might be a libtard if... #libtard  #sjw #l...</td>\n",
       "      <td>[you, might, be, a, libtard, if, libtard, sjw,...</td>\n",
       "      <td>you might be a libtard if libtard sjw liberal ...</td>\n",
       "      <td>1</td>\n",
       "      <td>1</td>\n",
       "    </tr>\n",
       "    <tr>\n",
       "      <th>19524</th>\n",
       "      <td>19525</td>\n",
       "      <td>1</td>\n",
       "      <td>#sikh #temple vandalised in in #calgary, #wso ...</td>\n",
       "      <td>[sikh, temple, vandalised, in, in, calgary, ws...</td>\n",
       "      <td>sikh temple vandalised in in calgary wso conde...</td>\n",
       "      <td>1</td>\n",
       "      <td>1</td>\n",
       "    </tr>\n",
       "  </tbody>\n",
       "</table>\n",
       "</div>"
      ],
      "text/plain": [
       "          id  label                                              tweet  \\\n",
       "31742  31743      1  @user you might be a libtard if... #libtard  #...   \n",
       "20222  20223      1  in the case of the commonwealth of the interne...   \n",
       "28727  28728      1  @user #trump is guilty of treason !  we #there...   \n",
       "11303  11304      1  @user @user @user @user says a president elect...   \n",
       "12064  12065      1  @user racist  austin police ofc cameron staff ...   \n",
       "9462    9463      1  you might be a libtard if... #libtard  #sjw #l...   \n",
       "20787  20788      1  @user #allahsoil most deaths caused by islamic...   \n",
       "15466  15467      1  you might be a libtard if... #libtard  #sjw #l...   \n",
       "15740  15741      1  @user #allahsoil the term jihad is a highly-co...   \n",
       "29625  29626      1  @user #allahsoil many politicians claim that j...   \n",
       "23055  23056      1  the radicalism of woodrow wilsonâs racism  #...   \n",
       "24566  24567      1  #rebellion in the #uk? when you #dontbuythesun...   \n",
       "15435  15436      1  @user #sikh #temple vandalised in in #calgary,...   \n",
       "27577  27578      1  @user you might be a libtard if... #libtard  #...   \n",
       "28145  28146      0  @user @user @user she is not only a \"low infor...   \n",
       "20651  20652      1  you might be a libtard if... #libtard  #sjw #l...   \n",
       "5686    5687      0   @user #onthisday 1744 a young child died in #...   \n",
       "4167    4168      1  @user chaplin - the dictator speech  via @user...   \n",
       "11387  11388      0   @user easier for barrack hussein obama to bla...   \n",
       "9179    9180      1  @user #sikh #temple vandalised in in #calgary,...   \n",
       "23299  23300      1  @user how liberal #democrats institutionalized...   \n",
       "20828  20829      1  the #nc \"monster law\" made by republican lawma...   \n",
       "23679  23680      1  give hope. dismantle systemic racism.  #allies...   \n",
       "9072    9073      0  @user @user @user  - un investigators: \"isis i...   \n",
       "3680    3681      1  @user @user @user  is this a new one? either w...   \n",
       "17051  17052      1  @user you might be a libtard if... #libtard  #...   \n",
       "10603  10604      1  #sikh #temple vandalised in in #calgary, #wso ...   \n",
       "5492    5493      1  @user #allahsoil we should not conflate islami...   \n",
       "11213  11214      1  @user you might be a libtard if... #libtard  #...   \n",
       "10855  10856      1  you might be a libtard if... #libtard  #sjw #l...   \n",
       "19524  19525      1  #sikh #temple vandalised in in #calgary, #wso ...   \n",
       "\n",
       "                                        tokenized_tweets  \\\n",
       "31742  [user, you, might, be, a, libtard, if, libtard...   \n",
       "20222  [in, the, case, of, the, commonwealth, of, the...   \n",
       "28727  [user, trump, is, guilty, of, treason, we, the...   \n",
       "11303  [user, user, user, user, say, a, president, el...   \n",
       "12064  [user, racist, austin, police, ofc, cameron, s...   \n",
       "9462   [you, might, be, a, libtard, if, libtard, sjw,...   \n",
       "20787  [user, allahsoil, most, death, caused, by, isl...   \n",
       "15466  [you, might, be, a, libtard, if, libtard, sjw,...   \n",
       "15740  [user, allahsoil, the, term, jihad, is, a, hig...   \n",
       "29625  [user, allahsoil, many, politician, claim, tha...   \n",
       "23055  [the, radicalism, of, woodrow, wilsonâ, s, rac...   \n",
       "24566  [rebellion, in, the, uk, when, you, dontbuythe...   \n",
       "15435  [user, sikh, temple, vandalised, in, in, calga...   \n",
       "27577  [user, you, might, be, a, libtard, if, libtard...   \n",
       "28145  [user, user, user, she, is, not, only, a, low,...   \n",
       "20651  [you, might, be, a, libtard, if, libtard, sjw,...   \n",
       "5686   [user, onthisday, a, young, child, died, in, n...   \n",
       "4167   [user, chaplin, the, dictator, speech, via, us...   \n",
       "11387  [user, easier, for, barrack, hussein, obama, t...   \n",
       "9179   [user, sikh, temple, vandalised, in, in, calga...   \n",
       "23299  [user, how, liberal, democrat, institutionaliz...   \n",
       "20828  [the, nc, monster, law, made, by, republican, ...   \n",
       "23679  [give, hope, dismantle, systemic, racism, alli...   \n",
       "9072   [user, user, user, un, investigator, isi, is, ...   \n",
       "3680   [user, user, user, is, this, a, new, one, eith...   \n",
       "17051  [user, you, might, be, a, libtard, if, libtard...   \n",
       "10603  [sikh, temple, vandalised, in, in, calgary, ws...   \n",
       "5492   [user, allahsoil, we, should, not, conflate, i...   \n",
       "11213  [user, you, might, be, a, libtard, if, libtard...   \n",
       "10855  [you, might, be, a, libtard, if, libtard, sjw,...   \n",
       "19524  [sikh, temple, vandalised, in, in, calgary, ws...   \n",
       "\n",
       "                                            clean_tweets  predictions  \\\n",
       "31742  user you might be a libtard if libtard sjw lib...            1   \n",
       "20222  in the case of the commonwealth of the interne...            0   \n",
       "28727  user trump is guilty of treason we theresistan...            1   \n",
       "11303  user user user user say a president elect that...            1   \n",
       "12064  user racist austin police ofc cameron staff ca...            1   \n",
       "9462   you might be a libtard if libtard sjw liberal ...            1   \n",
       "20787  user allahsoil most death caused by islamic ex...            1   \n",
       "15466  you might be a libtard if libtard sjw liberal ...            1   \n",
       "15740  user allahsoil the term jihad is a highly cont...            1   \n",
       "29625  user allahsoil many politician claim that jiha...            1   \n",
       "23055  the radicalism of woodrow wilsonâ s racism bla...            1   \n",
       "24566  rebellion in the uk when you dontbuythesun amp...            1   \n",
       "15435  user sikh temple vandalised in in calgary wso ...            1   \n",
       "27577  user you might be a libtard if libtard sjw lib...            1   \n",
       "28145  user user user she is not only a low informati...            0   \n",
       "20651  you might be a libtard if libtard sjw liberal ...            1   \n",
       "5686   user onthisday a young child died in newcastle...            0   \n",
       "4167   user chaplin the dictator speech via user ther...            1   \n",
       "11387  user easier for barrack hussein obama to blame...            0   \n",
       "9179   user sikh temple vandalised in in calgary wso ...            1   \n",
       "23299  user how liberal democrat institutionalized wh...            1   \n",
       "20828  the nc monster law made by republican lawmaker...            1   \n",
       "23679  give hope dismantle systemic racism alliesforb...            0   \n",
       "9072   user user user un investigator isi is committi...            1   \n",
       "3680   user user user is this a new one either way me...            0   \n",
       "17051  user you might be a libtard if libtard sjw lib...            1   \n",
       "10603  sikh temple vandalised in in calgary wso conde...            1   \n",
       "5492   user allahsoil we should not conflate islamic ...            1   \n",
       "11213  user you might be a libtard if libtard sjw lib...            1   \n",
       "10855  you might be a libtard if libtard sjw liberal ...            1   \n",
       "19524  sikh temple vandalised in in calgary wso conde...            1   \n",
       "\n",
       "       predictions_GloVe  \n",
       "31742                  1  \n",
       "20222                  1  \n",
       "28727                  1  \n",
       "11303                  1  \n",
       "12064                  1  \n",
       "9462                   1  \n",
       "20787                  1  \n",
       "15466                  1  \n",
       "15740                  1  \n",
       "29625                  1  \n",
       "23055                  1  \n",
       "24566                  1  \n",
       "15435                  1  \n",
       "27577                  1  \n",
       "28145                  1  \n",
       "20651                  1  \n",
       "5686                   1  \n",
       "4167                   1  \n",
       "11387                  1  \n",
       "9179                   1  \n",
       "23299                  1  \n",
       "20828                  1  \n",
       "23679                  1  \n",
       "9072                   1  \n",
       "3680                   1  \n",
       "17051                  1  \n",
       "10603                  1  \n",
       "5492                   1  \n",
       "11213                  1  \n",
       "10855                  1  \n",
       "19524                  1  "
      ]
     },
     "execution_count": 55,
     "metadata": {},
     "output_type": "execute_result"
    }
   ],
   "source": [
    "#Creating a new predictions for our validation set and adding it to the dataset for a better comparison\n",
    "predictions = model_2.predict_classes(x_val)\n",
    "df_eval['predictions_GloVe'] = predictions\n",
    "df_eval[df_eval['predictions_GloVe'] ==1]"
   ]
  },
  {
   "cell_type": "markdown",
   "metadata": {},
   "source": [
    "# Summary\n",
    "As we can see, Word Embedding is a great method for semantic analysis that can perform very well in classifying tweets. We can also take in consideration the short run time and the fast learning curve. "
   ]
  },
  {
   "cell_type": "code",
   "execution_count": null,
   "metadata": {},
   "outputs": [],
   "source": []
  }
 ],
 "metadata": {
  "kernelspec": {
   "display_name": "Python 3",
   "language": "python",
   "name": "python3"
  },
  "language_info": {
   "codemirror_mode": {
    "name": "ipython",
    "version": 3
   },
   "file_extension": ".py",
   "mimetype": "text/x-python",
   "name": "python",
   "nbconvert_exporter": "python",
   "pygments_lexer": "ipython3",
   "version": "3.6.10"
  }
 },
 "nbformat": 4,
 "nbformat_minor": 2
}
